{
 "cells": [
  {
   "cell_type": "markdown",
   "metadata": {},
   "source": [
    "# Before your start:\n",
    "- Read the README.md file\n",
    "- Comment as much as you can and use the resources (README.md file)\n",
    "- Happy learning!"
   ]
  },
  {
   "cell_type": "code",
   "execution_count": 1,
   "metadata": {},
   "outputs": [],
   "source": [
    "# import numpy and pandas\n",
    "\n",
    "import pandas as pd\n",
    "import numpy as np"
   ]
  },
  {
   "cell_type": "markdown",
   "metadata": {},
   "source": [
    "# Challenge 1 - Exploring the Data\n",
    "\n",
    "In this challenge, we will examine all salaries of employees of the City of Chicago. We will start by loading the dataset and examining its contents"
   ]
  },
  {
   "cell_type": "code",
   "execution_count": 2,
   "metadata": {},
   "outputs": [],
   "source": [
    "# Run this code:\n",
    "\n",
    "salaries = pd.read_csv('../Current_Employee_Names__Salaries__and_Position_Titles.csv')"
   ]
  },
  {
   "cell_type": "markdown",
   "metadata": {},
   "source": [
    "Examine the `salaries` dataset using the `head` function below."
   ]
  },
  {
   "cell_type": "code",
   "execution_count": 3,
   "metadata": {},
   "outputs": [
    {
     "data": {
      "text/html": [
       "<div>\n",
       "<style scoped>\n",
       "    .dataframe tbody tr th:only-of-type {\n",
       "        vertical-align: middle;\n",
       "    }\n",
       "\n",
       "    .dataframe tbody tr th {\n",
       "        vertical-align: top;\n",
       "    }\n",
       "\n",
       "    .dataframe thead th {\n",
       "        text-align: right;\n",
       "    }\n",
       "</style>\n",
       "<table border=\"1\" class=\"dataframe\">\n",
       "  <thead>\n",
       "    <tr style=\"text-align: right;\">\n",
       "      <th></th>\n",
       "      <th>Name</th>\n",
       "      <th>Job Titles</th>\n",
       "      <th>Department</th>\n",
       "      <th>Full or Part-Time</th>\n",
       "      <th>Salary or Hourly</th>\n",
       "      <th>Typical Hours</th>\n",
       "      <th>Annual Salary</th>\n",
       "      <th>Hourly Rate</th>\n",
       "    </tr>\n",
       "  </thead>\n",
       "  <tbody>\n",
       "    <tr>\n",
       "      <th>0</th>\n",
       "      <td>AARON,  JEFFERY M</td>\n",
       "      <td>SERGEANT</td>\n",
       "      <td>POLICE</td>\n",
       "      <td>F</td>\n",
       "      <td>Salary</td>\n",
       "      <td>NaN</td>\n",
       "      <td>101442.0</td>\n",
       "      <td>NaN</td>\n",
       "    </tr>\n",
       "    <tr>\n",
       "      <th>1</th>\n",
       "      <td>AARON,  KARINA</td>\n",
       "      <td>POLICE OFFICER (ASSIGNED AS DETECTIVE)</td>\n",
       "      <td>POLICE</td>\n",
       "      <td>F</td>\n",
       "      <td>Salary</td>\n",
       "      <td>NaN</td>\n",
       "      <td>94122.0</td>\n",
       "      <td>NaN</td>\n",
       "    </tr>\n",
       "    <tr>\n",
       "      <th>2</th>\n",
       "      <td>AARON,  KIMBERLEI R</td>\n",
       "      <td>CHIEF CONTRACT EXPEDITER</td>\n",
       "      <td>GENERAL SERVICES</td>\n",
       "      <td>F</td>\n",
       "      <td>Salary</td>\n",
       "      <td>NaN</td>\n",
       "      <td>101592.0</td>\n",
       "      <td>NaN</td>\n",
       "    </tr>\n",
       "    <tr>\n",
       "      <th>3</th>\n",
       "      <td>ABAD JR,  VICENTE M</td>\n",
       "      <td>CIVIL ENGINEER IV</td>\n",
       "      <td>WATER MGMNT</td>\n",
       "      <td>F</td>\n",
       "      <td>Salary</td>\n",
       "      <td>NaN</td>\n",
       "      <td>110064.0</td>\n",
       "      <td>NaN</td>\n",
       "    </tr>\n",
       "    <tr>\n",
       "      <th>4</th>\n",
       "      <td>ABASCAL,  REECE E</td>\n",
       "      <td>TRAFFIC CONTROL AIDE-HOURLY</td>\n",
       "      <td>OEMC</td>\n",
       "      <td>P</td>\n",
       "      <td>Hourly</td>\n",
       "      <td>20.0</td>\n",
       "      <td>NaN</td>\n",
       "      <td>19.86</td>\n",
       "    </tr>\n",
       "  </tbody>\n",
       "</table>\n",
       "</div>"
      ],
      "text/plain": [
       "                  Name                              Job Titles  \\\n",
       "0    AARON,  JEFFERY M                                SERGEANT   \n",
       "1      AARON,  KARINA   POLICE OFFICER (ASSIGNED AS DETECTIVE)   \n",
       "2  AARON,  KIMBERLEI R                CHIEF CONTRACT EXPEDITER   \n",
       "3  ABAD JR,  VICENTE M                       CIVIL ENGINEER IV   \n",
       "4    ABASCAL,  REECE E             TRAFFIC CONTROL AIDE-HOURLY   \n",
       "\n",
       "         Department Full or Part-Time Salary or Hourly  Typical Hours  \\\n",
       "0            POLICE                 F           Salary            NaN   \n",
       "1            POLICE                 F           Salary            NaN   \n",
       "2  GENERAL SERVICES                 F           Salary            NaN   \n",
       "3       WATER MGMNT                 F           Salary            NaN   \n",
       "4              OEMC                 P           Hourly           20.0   \n",
       "\n",
       "   Annual Salary  Hourly Rate  \n",
       "0       101442.0          NaN  \n",
       "1        94122.0          NaN  \n",
       "2       101592.0          NaN  \n",
       "3       110064.0          NaN  \n",
       "4            NaN        19.86  "
      ]
     },
     "execution_count": 3,
     "metadata": {},
     "output_type": "execute_result"
    }
   ],
   "source": [
    "# Your code here:\n",
    "\n",
    "salaries.head()"
   ]
  },
  {
   "cell_type": "code",
   "execution_count": 4,
   "metadata": {
    "scrolled": true
   },
   "outputs": [
    {
     "name": "stdout",
     "output_type": "stream",
     "text": [
      "<class 'pandas.core.frame.DataFrame'>\n",
      "RangeIndex: 33183 entries, 0 to 33182\n",
      "Data columns (total 8 columns):\n",
      " #   Column             Non-Null Count  Dtype  \n",
      "---  ------             --------------  -----  \n",
      " 0   Name               33183 non-null  object \n",
      " 1   Job Titles         33183 non-null  object \n",
      " 2   Department         33183 non-null  object \n",
      " 3   Full or Part-Time  33183 non-null  object \n",
      " 4   Salary or Hourly   33183 non-null  object \n",
      " 5   Typical Hours      8022 non-null   float64\n",
      " 6   Annual Salary      25161 non-null  float64\n",
      " 7   Hourly Rate        8022 non-null   float64\n",
      "dtypes: float64(3), object(5)\n",
      "memory usage: 2.0+ MB\n"
     ]
    }
   ],
   "source": [
    "salaries.info()"
   ]
  },
  {
   "cell_type": "markdown",
   "metadata": {},
   "source": [
    "We see from looking at the `head` function that there is quite a bit of missing data. Let's examine how much missing data is in each column. Produce this output in the cell below"
   ]
  },
  {
   "cell_type": "code",
   "execution_count": 5,
   "metadata": {},
   "outputs": [
    {
     "data": {
      "text/plain": [
       "Typical Hours        75.82\n",
       "Hourly Rate          75.82\n",
       "Annual Salary        24.18\n",
       "Name                  0.00\n",
       "Job Titles            0.00\n",
       "Department            0.00\n",
       "Full or Part-Time     0.00\n",
       "Salary or Hourly      0.00\n",
       "dtype: float64"
      ]
     },
     "execution_count": 5,
     "metadata": {},
     "output_type": "execute_result"
    }
   ],
   "source": [
    "# Your code here:\n",
    "\n",
    "# percentage of missing data per column\n",
    "round((salaries.isnull().sum() / len(salaries)) * 100, 2).sort_values(ascending=False)"
   ]
  },
  {
   "cell_type": "markdown",
   "metadata": {},
   "source": [
    "Let's also look at the count of hourly vs. salaried employees. Write the code in the cell below"
   ]
  },
  {
   "cell_type": "code",
   "execution_count": 9,
   "metadata": {},
   "outputs": [
    {
     "data": {
      "text/html": [
       "<div>\n",
       "<style scoped>\n",
       "    .dataframe tbody tr th:only-of-type {\n",
       "        vertical-align: middle;\n",
       "    }\n",
       "\n",
       "    .dataframe tbody tr th {\n",
       "        vertical-align: top;\n",
       "    }\n",
       "\n",
       "    .dataframe thead th {\n",
       "        text-align: right;\n",
       "    }\n",
       "</style>\n",
       "<table border=\"1\" class=\"dataframe\">\n",
       "  <thead>\n",
       "    <tr style=\"text-align: right;\">\n",
       "      <th></th>\n",
       "      <th>Hourly Rate</th>\n",
       "      <th>Annual Salary</th>\n",
       "    </tr>\n",
       "  </thead>\n",
       "  <tbody>\n",
       "    <tr>\n",
       "      <th>0</th>\n",
       "      <td>NaN</td>\n",
       "      <td>101442.0</td>\n",
       "    </tr>\n",
       "    <tr>\n",
       "      <th>1</th>\n",
       "      <td>NaN</td>\n",
       "      <td>94122.0</td>\n",
       "    </tr>\n",
       "    <tr>\n",
       "      <th>2</th>\n",
       "      <td>NaN</td>\n",
       "      <td>101592.0</td>\n",
       "    </tr>\n",
       "    <tr>\n",
       "      <th>3</th>\n",
       "      <td>NaN</td>\n",
       "      <td>110064.0</td>\n",
       "    </tr>\n",
       "    <tr>\n",
       "      <th>4</th>\n",
       "      <td>19.86</td>\n",
       "      <td>NaN</td>\n",
       "    </tr>\n",
       "    <tr>\n",
       "      <th>...</th>\n",
       "      <td>...</td>\n",
       "      <td>...</td>\n",
       "    </tr>\n",
       "    <tr>\n",
       "      <th>33178</th>\n",
       "      <td>NaN</td>\n",
       "      <td>72510.0</td>\n",
       "    </tr>\n",
       "    <tr>\n",
       "      <th>33179</th>\n",
       "      <td>NaN</td>\n",
       "      <td>48078.0</td>\n",
       "    </tr>\n",
       "    <tr>\n",
       "      <th>33180</th>\n",
       "      <td>NaN</td>\n",
       "      <td>90024.0</td>\n",
       "    </tr>\n",
       "    <tr>\n",
       "      <th>33181</th>\n",
       "      <td>NaN</td>\n",
       "      <td>93354.0</td>\n",
       "    </tr>\n",
       "    <tr>\n",
       "      <th>33182</th>\n",
       "      <td>NaN</td>\n",
       "      <td>115932.0</td>\n",
       "    </tr>\n",
       "  </tbody>\n",
       "</table>\n",
       "<p>33183 rows × 2 columns</p>\n",
       "</div>"
      ],
      "text/plain": [
       "       Hourly Rate  Annual Salary\n",
       "0              NaN       101442.0\n",
       "1              NaN        94122.0\n",
       "2              NaN       101592.0\n",
       "3              NaN       110064.0\n",
       "4            19.86            NaN\n",
       "...            ...            ...\n",
       "33178          NaN        72510.0\n",
       "33179          NaN        48078.0\n",
       "33180          NaN        90024.0\n",
       "33181          NaN        93354.0\n",
       "33182          NaN       115932.0\n",
       "\n",
       "[33183 rows x 2 columns]"
      ]
     },
     "execution_count": 9,
     "metadata": {},
     "output_type": "execute_result"
    }
   ],
   "source": [
    "# Your code here:\n",
    "\n",
    "salaries[['Hourly Rate', 'Annual Salary']]"
   ]
  },
  {
   "cell_type": "markdown",
   "metadata": {},
   "source": [
    "What this information indicates is that the table contains information about two types of employees - salaried and hourly. Some columns apply only to one type of employee while other columns only apply to another kind. This is why there are so many missing values. Therefore, we will not do anything to handle the missing values."
   ]
  },
  {
   "cell_type": "markdown",
   "metadata": {},
   "source": [
    "There are different departments in the city. List all departments and the count of employees in each department."
   ]
  },
  {
   "cell_type": "code",
   "execution_count": 15,
   "metadata": {
    "scrolled": true
   },
   "outputs": [
    {
     "data": {
      "text/plain": [
       "POLICE                   13414\n",
       "FIRE                      4641\n",
       "STREETS & SAN             2198\n",
       "OEMC                      2102\n",
       "WATER MGMNT               1879\n",
       "AVIATION                  1629\n",
       "TRANSPORTN                1140\n",
       "PUBLIC LIBRARY            1015\n",
       "GENERAL SERVICES           980\n",
       "FAMILY & SUPPORT           615\n",
       "FINANCE                    560\n",
       "HEALTH                     488\n",
       "CITY COUNCIL               411\n",
       "LAW                        407\n",
       "BUILDINGS                  269\n",
       "COMMUNITY DEVELOPMENT      207\n",
       "BUSINESS AFFAIRS           171\n",
       "COPA                       116\n",
       "BOARD OF ELECTION          107\n",
       "DoIT                        99\n",
       "PROCUREMENT                 92\n",
       "INSPECTOR GEN               87\n",
       "MAYOR'S OFFICE              85\n",
       "CITY CLERK                  84\n",
       "ANIMAL CONTRL               81\n",
       "HUMAN RESOURCES             79\n",
       "CULTURAL AFFAIRS            65\n",
       "BUDGET & MGMT               46\n",
       "ADMIN HEARNG                39\n",
       "DISABILITIES                28\n",
       "TREASURER                   22\n",
       "HUMAN RELATIONS             16\n",
       "BOARD OF ETHICS              8\n",
       "POLICE BOARD                 2\n",
       "LICENSE APPL COMM            1\n",
       "Name: Department, dtype: int64"
      ]
     },
     "execution_count": 15,
     "metadata": {},
     "output_type": "execute_result"
    }
   ],
   "source": [
    "# Your code here:\n",
    "\n",
    "salaries['Department'].value_counts()"
   ]
  },
  {
   "cell_type": "code",
   "execution_count": 17,
   "metadata": {
    "scrolled": true
   },
   "outputs": [
    {
     "data": {
      "text/html": [
       "<div>\n",
       "<style scoped>\n",
       "    .dataframe tbody tr th:only-of-type {\n",
       "        vertical-align: middle;\n",
       "    }\n",
       "\n",
       "    .dataframe tbody tr th {\n",
       "        vertical-align: top;\n",
       "    }\n",
       "\n",
       "    .dataframe thead th {\n",
       "        text-align: right;\n",
       "    }\n",
       "</style>\n",
       "<table border=\"1\" class=\"dataframe\">\n",
       "  <thead>\n",
       "    <tr style=\"text-align: right;\">\n",
       "      <th></th>\n",
       "      <th>Name</th>\n",
       "    </tr>\n",
       "    <tr>\n",
       "      <th>Department</th>\n",
       "      <th></th>\n",
       "    </tr>\n",
       "  </thead>\n",
       "  <tbody>\n",
       "    <tr>\n",
       "      <th>POLICE</th>\n",
       "      <td>13414</td>\n",
       "    </tr>\n",
       "    <tr>\n",
       "      <th>FIRE</th>\n",
       "      <td>4641</td>\n",
       "    </tr>\n",
       "    <tr>\n",
       "      <th>STREETS &amp; SAN</th>\n",
       "      <td>2198</td>\n",
       "    </tr>\n",
       "    <tr>\n",
       "      <th>OEMC</th>\n",
       "      <td>2102</td>\n",
       "    </tr>\n",
       "    <tr>\n",
       "      <th>WATER MGMNT</th>\n",
       "      <td>1879</td>\n",
       "    </tr>\n",
       "    <tr>\n",
       "      <th>AVIATION</th>\n",
       "      <td>1629</td>\n",
       "    </tr>\n",
       "    <tr>\n",
       "      <th>TRANSPORTN</th>\n",
       "      <td>1140</td>\n",
       "    </tr>\n",
       "    <tr>\n",
       "      <th>PUBLIC LIBRARY</th>\n",
       "      <td>1015</td>\n",
       "    </tr>\n",
       "    <tr>\n",
       "      <th>GENERAL SERVICES</th>\n",
       "      <td>980</td>\n",
       "    </tr>\n",
       "    <tr>\n",
       "      <th>FAMILY &amp; SUPPORT</th>\n",
       "      <td>615</td>\n",
       "    </tr>\n",
       "    <tr>\n",
       "      <th>FINANCE</th>\n",
       "      <td>560</td>\n",
       "    </tr>\n",
       "    <tr>\n",
       "      <th>HEALTH</th>\n",
       "      <td>488</td>\n",
       "    </tr>\n",
       "    <tr>\n",
       "      <th>CITY COUNCIL</th>\n",
       "      <td>411</td>\n",
       "    </tr>\n",
       "    <tr>\n",
       "      <th>LAW</th>\n",
       "      <td>407</td>\n",
       "    </tr>\n",
       "    <tr>\n",
       "      <th>BUILDINGS</th>\n",
       "      <td>269</td>\n",
       "    </tr>\n",
       "    <tr>\n",
       "      <th>COMMUNITY DEVELOPMENT</th>\n",
       "      <td>207</td>\n",
       "    </tr>\n",
       "    <tr>\n",
       "      <th>BUSINESS AFFAIRS</th>\n",
       "      <td>171</td>\n",
       "    </tr>\n",
       "    <tr>\n",
       "      <th>COPA</th>\n",
       "      <td>116</td>\n",
       "    </tr>\n",
       "    <tr>\n",
       "      <th>BOARD OF ELECTION</th>\n",
       "      <td>107</td>\n",
       "    </tr>\n",
       "    <tr>\n",
       "      <th>DoIT</th>\n",
       "      <td>99</td>\n",
       "    </tr>\n",
       "    <tr>\n",
       "      <th>PROCUREMENT</th>\n",
       "      <td>92</td>\n",
       "    </tr>\n",
       "    <tr>\n",
       "      <th>INSPECTOR GEN</th>\n",
       "      <td>87</td>\n",
       "    </tr>\n",
       "    <tr>\n",
       "      <th>MAYOR'S OFFICE</th>\n",
       "      <td>85</td>\n",
       "    </tr>\n",
       "    <tr>\n",
       "      <th>CITY CLERK</th>\n",
       "      <td>84</td>\n",
       "    </tr>\n",
       "    <tr>\n",
       "      <th>ANIMAL CONTRL</th>\n",
       "      <td>81</td>\n",
       "    </tr>\n",
       "    <tr>\n",
       "      <th>HUMAN RESOURCES</th>\n",
       "      <td>79</td>\n",
       "    </tr>\n",
       "    <tr>\n",
       "      <th>CULTURAL AFFAIRS</th>\n",
       "      <td>65</td>\n",
       "    </tr>\n",
       "    <tr>\n",
       "      <th>BUDGET &amp; MGMT</th>\n",
       "      <td>46</td>\n",
       "    </tr>\n",
       "    <tr>\n",
       "      <th>ADMIN HEARNG</th>\n",
       "      <td>39</td>\n",
       "    </tr>\n",
       "    <tr>\n",
       "      <th>DISABILITIES</th>\n",
       "      <td>28</td>\n",
       "    </tr>\n",
       "    <tr>\n",
       "      <th>TREASURER</th>\n",
       "      <td>22</td>\n",
       "    </tr>\n",
       "    <tr>\n",
       "      <th>HUMAN RELATIONS</th>\n",
       "      <td>16</td>\n",
       "    </tr>\n",
       "    <tr>\n",
       "      <th>BOARD OF ETHICS</th>\n",
       "      <td>8</td>\n",
       "    </tr>\n",
       "    <tr>\n",
       "      <th>POLICE BOARD</th>\n",
       "      <td>2</td>\n",
       "    </tr>\n",
       "    <tr>\n",
       "      <th>LICENSE APPL COMM</th>\n",
       "      <td>1</td>\n",
       "    </tr>\n",
       "  </tbody>\n",
       "</table>\n",
       "</div>"
      ],
      "text/plain": [
       "                        Name\n",
       "Department                  \n",
       "POLICE                 13414\n",
       "FIRE                    4641\n",
       "STREETS & SAN           2198\n",
       "OEMC                    2102\n",
       "WATER MGMNT             1879\n",
       "AVIATION                1629\n",
       "TRANSPORTN              1140\n",
       "PUBLIC LIBRARY          1015\n",
       "GENERAL SERVICES         980\n",
       "FAMILY & SUPPORT         615\n",
       "FINANCE                  560\n",
       "HEALTH                   488\n",
       "CITY COUNCIL             411\n",
       "LAW                      407\n",
       "BUILDINGS                269\n",
       "COMMUNITY DEVELOPMENT    207\n",
       "BUSINESS AFFAIRS         171\n",
       "COPA                     116\n",
       "BOARD OF ELECTION        107\n",
       "DoIT                      99\n",
       "PROCUREMENT               92\n",
       "INSPECTOR GEN             87\n",
       "MAYOR'S OFFICE            85\n",
       "CITY CLERK                84\n",
       "ANIMAL CONTRL             81\n",
       "HUMAN RESOURCES           79\n",
       "CULTURAL AFFAIRS          65\n",
       "BUDGET & MGMT             46\n",
       "ADMIN HEARNG              39\n",
       "DISABILITIES              28\n",
       "TREASURER                 22\n",
       "HUMAN RELATIONS           16\n",
       "BOARD OF ETHICS            8\n",
       "POLICE BOARD               2\n",
       "LICENSE APPL COMM          1"
      ]
     },
     "execution_count": 17,
     "metadata": {},
     "output_type": "execute_result"
    }
   ],
   "source": [
    "# pivot table\n",
    "salaries.pivot_table(index=['Department'], values=['Name'], aggfunc={'Name':'count'}).sort_values(by='Name', ascending=False)"
   ]
  },
  {
   "cell_type": "markdown",
   "metadata": {},
   "source": [
    "# Challenge 2 - Hypothesis Tests\n",
    "\n",
    "In this section of the lab, we will test whether the hourly wage of all hourly workers is significantly different from $30/hr. Import the correct one sample test function from scipy and perform the hypothesis test for a 95% two sided confidence interval."
   ]
  },
  {
   "cell_type": "code",
   "execution_count": 19,
   "metadata": {},
   "outputs": [],
   "source": [
    "from scipy.stats import ttest_rel, ttest_1samp"
   ]
  },
  {
   "cell_type": "markdown",
   "metadata": {},
   "source": [
    "Our hypothesis will be:\n",
    "\n",
    "    H0: μ ≠ 30/hr\n",
    "    Ha: μ = 30/hr"
   ]
  },
  {
   "cell_type": "code",
   "execution_count": 28,
   "metadata": {},
   "outputs": [],
   "source": [
    "hourly = salaries[salaries['Salary or Hourly'] == 'Hourly']"
   ]
  },
  {
   "cell_type": "code",
   "execution_count": 36,
   "metadata": {},
   "outputs": [
    {
     "data": {
      "text/plain": [
       "Ttest_1sampResult(statistic=20.6198057854942, pvalue=4.3230240486229894e-92)"
      ]
     },
     "execution_count": 36,
     "metadata": {},
     "output_type": "execute_result"
    }
   ],
   "source": [
    "# Your code here:\n",
    "\n",
    "ttest_1samp(hourly['Hourly Rate'], 30)"
   ]
  },
  {
   "cell_type": "code",
   "execution_count": 99,
   "metadata": {},
   "outputs": [
    {
     "data": {
      "text/plain": [
       "(20.6198057854942, 4.3230240486229894e-92)"
      ]
     },
     "execution_count": 99,
     "metadata": {},
     "output_type": "execute_result"
    }
   ],
   "source": [
    "t, p = ttest_1samp(hourly['Hourly Rate'], 30)\n",
    "t, p"
   ]
  },
  {
   "cell_type": "code",
   "execution_count": 37,
   "metadata": {},
   "outputs": [
    {
     "data": {
      "text/plain": [
       "True"
      ]
     },
     "execution_count": 37,
     "metadata": {},
     "output_type": "execute_result"
    }
   ],
   "source": [
    "p <= 0.05"
   ]
  },
  {
   "cell_type": "code",
   "execution_count": 100,
   "metadata": {},
   "outputs": [
    {
     "data": {
      "text/plain": [
       "100.0"
      ]
     },
     "execution_count": 100,
     "metadata": {},
     "output_type": "execute_result"
    }
   ],
   "source": [
    "(1 - p) * 100"
   ]
  },
  {
   "cell_type": "markdown",
   "metadata": {},
   "source": [
    "el valor de p es muy bajo (4.32e-92) y menor a 0.05, con una casi del 100%, se podría asegurar que la hipótesis nula es falsa:\n",
    "- H0 = el salario por hora de todos los trabajadores es significativamente diferente de $30/hora\n",
    "\n",
    "y, por ende, la hipótesis alternativa es verdadera:\n",
    "- Ha = el salario por hora de todos los trabajadores NO es significativamente diferente de $30/hora"
   ]
  },
  {
   "cell_type": "code",
   "execution_count": 72,
   "metadata": {},
   "outputs": [
    {
     "data": {
      "text/plain": [
       "32.79"
      ]
     },
     "execution_count": 72,
     "metadata": {},
     "output_type": "execute_result"
    }
   ],
   "source": [
    "round(np.mean(hourly['Hourly Rate']), 2)"
   ]
  },
  {
   "cell_type": "code",
   "execution_count": 71,
   "metadata": {},
   "outputs": [
    {
     "data": {
      "image/png": "[encoded data removed]",
      "text/plain": [
       "<Figure size 432x288 with 1 Axes>"
      ]
     },
     "metadata": {
      "needs_background": "light"
     },
     "output_type": "display_data"
    }
   ],
   "source": [
    "import matplotlib.pyplot as plt\n",
    "\n",
    "plt.hist(hourly['Hourly Rate'])\n",
    "plt.axvline(hourly['Hourly Rate'].mean(), color='k', linestyle='dashed', linewidth=1)\n",
    "\n",
    "min_ylim, max_ylim = plt.ylim()\n",
    "plt.text(hourly['Hourly Rate'].mean()* 0.2, max_ylim*0.9, 'Mean: {:.2f}'.format(hourly['Hourly Rate'].mean()));"
   ]
  },
  {
   "cell_type": "markdown",
   "metadata": {},
   "source": [
    "We are also curious about salaries in the police force. The chief of police in Chicago claimed in a press briefing that salaries this year are higher than last year's mean of $86000/year a year for all salaried employees. Test this one sided hypothesis using a 95% confidence interval.\n",
    "\n",
    "Hint: A one tailed test has a p-value that is half of the two tailed p-value. If our hypothesis is greater than, then to reject, the test statistic must also be positive."
   ]
  },
  {
   "cell_type": "markdown",
   "metadata": {},
   "source": [
    "Our hypothesis will be:\n",
    "\n",
    "    H0: μ > 86,000/year\n",
    "    Ha: μ <= 86,000/year"
   ]
  },
  {
   "cell_type": "code",
   "execution_count": 77,
   "metadata": {
    "scrolled": true
   },
   "outputs": [
    {
     "data": {
      "text/html": [
       "<div>\n",
       "<style scoped>\n",
       "    .dataframe tbody tr th:only-of-type {\n",
       "        vertical-align: middle;\n",
       "    }\n",
       "\n",
       "    .dataframe tbody tr th {\n",
       "        vertical-align: top;\n",
       "    }\n",
       "\n",
       "    .dataframe thead th {\n",
       "        text-align: right;\n",
       "    }\n",
       "</style>\n",
       "<table border=\"1\" class=\"dataframe\">\n",
       "  <thead>\n",
       "    <tr style=\"text-align: right;\">\n",
       "      <th></th>\n",
       "      <th>Name</th>\n",
       "      <th>Job Titles</th>\n",
       "      <th>Department</th>\n",
       "      <th>Full or Part-Time</th>\n",
       "      <th>Salary or Hourly</th>\n",
       "      <th>Typical Hours</th>\n",
       "      <th>Annual Salary</th>\n",
       "      <th>Hourly Rate</th>\n",
       "    </tr>\n",
       "  </thead>\n",
       "  <tbody>\n",
       "    <tr>\n",
       "      <th>0</th>\n",
       "      <td>AARON,  JEFFERY M</td>\n",
       "      <td>SERGEANT</td>\n",
       "      <td>POLICE</td>\n",
       "      <td>F</td>\n",
       "      <td>Salary</td>\n",
       "      <td>NaN</td>\n",
       "      <td>101442.0</td>\n",
       "      <td>NaN</td>\n",
       "    </tr>\n",
       "    <tr>\n",
       "      <th>1</th>\n",
       "      <td>AARON,  KARINA</td>\n",
       "      <td>POLICE OFFICER (ASSIGNED AS DETECTIVE)</td>\n",
       "      <td>POLICE</td>\n",
       "      <td>F</td>\n",
       "      <td>Salary</td>\n",
       "      <td>NaN</td>\n",
       "      <td>94122.0</td>\n",
       "      <td>NaN</td>\n",
       "    </tr>\n",
       "    <tr>\n",
       "      <th>9</th>\n",
       "      <td>ABBATE,  TERRY M</td>\n",
       "      <td>POLICE OFFICER</td>\n",
       "      <td>POLICE</td>\n",
       "      <td>F</td>\n",
       "      <td>Salary</td>\n",
       "      <td>NaN</td>\n",
       "      <td>93354.0</td>\n",
       "      <td>NaN</td>\n",
       "    </tr>\n",
       "    <tr>\n",
       "      <th>11</th>\n",
       "      <td>ABDALLAH,  ZAID</td>\n",
       "      <td>POLICE OFFICER</td>\n",
       "      <td>POLICE</td>\n",
       "      <td>F</td>\n",
       "      <td>Salary</td>\n",
       "      <td>NaN</td>\n",
       "      <td>84054.0</td>\n",
       "      <td>NaN</td>\n",
       "    </tr>\n",
       "    <tr>\n",
       "      <th>12</th>\n",
       "      <td>ABDELHADI,  ABDALMAHD</td>\n",
       "      <td>POLICE OFFICER</td>\n",
       "      <td>POLICE</td>\n",
       "      <td>F</td>\n",
       "      <td>Salary</td>\n",
       "      <td>NaN</td>\n",
       "      <td>87006.0</td>\n",
       "      <td>NaN</td>\n",
       "    </tr>\n",
       "    <tr>\n",
       "      <th>...</th>\n",
       "      <td>...</td>\n",
       "      <td>...</td>\n",
       "      <td>...</td>\n",
       "      <td>...</td>\n",
       "      <td>...</td>\n",
       "      <td>...</td>\n",
       "      <td>...</td>\n",
       "      <td>...</td>\n",
       "    </tr>\n",
       "    <tr>\n",
       "      <th>33177</th>\n",
       "      <td>ZYGMUNT,  DAWID</td>\n",
       "      <td>POLICE OFFICER</td>\n",
       "      <td>POLICE</td>\n",
       "      <td>F</td>\n",
       "      <td>Salary</td>\n",
       "      <td>NaN</td>\n",
       "      <td>72510.0</td>\n",
       "      <td>NaN</td>\n",
       "    </tr>\n",
       "    <tr>\n",
       "      <th>33178</th>\n",
       "      <td>ZYLINSKA,  KATARZYNA</td>\n",
       "      <td>POLICE OFFICER</td>\n",
       "      <td>POLICE</td>\n",
       "      <td>F</td>\n",
       "      <td>Salary</td>\n",
       "      <td>NaN</td>\n",
       "      <td>72510.0</td>\n",
       "      <td>NaN</td>\n",
       "    </tr>\n",
       "    <tr>\n",
       "      <th>33179</th>\n",
       "      <td>ZYMANTAS,  LAURA C</td>\n",
       "      <td>POLICE OFFICER</td>\n",
       "      <td>POLICE</td>\n",
       "      <td>F</td>\n",
       "      <td>Salary</td>\n",
       "      <td>NaN</td>\n",
       "      <td>48078.0</td>\n",
       "      <td>NaN</td>\n",
       "    </tr>\n",
       "    <tr>\n",
       "      <th>33180</th>\n",
       "      <td>ZYMANTAS,  MARK E</td>\n",
       "      <td>POLICE OFFICER</td>\n",
       "      <td>POLICE</td>\n",
       "      <td>F</td>\n",
       "      <td>Salary</td>\n",
       "      <td>NaN</td>\n",
       "      <td>90024.0</td>\n",
       "      <td>NaN</td>\n",
       "    </tr>\n",
       "    <tr>\n",
       "      <th>33181</th>\n",
       "      <td>ZYRKOWSKI,  CARLO E</td>\n",
       "      <td>POLICE OFFICER</td>\n",
       "      <td>POLICE</td>\n",
       "      <td>F</td>\n",
       "      <td>Salary</td>\n",
       "      <td>NaN</td>\n",
       "      <td>93354.0</td>\n",
       "      <td>NaN</td>\n",
       "    </tr>\n",
       "  </tbody>\n",
       "</table>\n",
       "<p>13404 rows × 8 columns</p>\n",
       "</div>"
      ],
      "text/plain": [
       "                         Name                              Job Titles  \\\n",
       "0           AARON,  JEFFERY M                                SERGEANT   \n",
       "1             AARON,  KARINA   POLICE OFFICER (ASSIGNED AS DETECTIVE)   \n",
       "9            ABBATE,  TERRY M                          POLICE OFFICER   \n",
       "11           ABDALLAH,  ZAID                           POLICE OFFICER   \n",
       "12     ABDELHADI,  ABDALMAHD                           POLICE OFFICER   \n",
       "...                       ...                                     ...   \n",
       "33177        ZYGMUNT,  DAWID                           POLICE OFFICER   \n",
       "33178   ZYLINSKA,  KATARZYNA                           POLICE OFFICER   \n",
       "33179      ZYMANTAS,  LAURA C                          POLICE OFFICER   \n",
       "33180       ZYMANTAS,  MARK E                          POLICE OFFICER   \n",
       "33181     ZYRKOWSKI,  CARLO E                          POLICE OFFICER   \n",
       "\n",
       "      Department Full or Part-Time Salary or Hourly  Typical Hours  \\\n",
       "0         POLICE                 F           Salary            NaN   \n",
       "1         POLICE                 F           Salary            NaN   \n",
       "9         POLICE                 F           Salary            NaN   \n",
       "11        POLICE                 F           Salary            NaN   \n",
       "12        POLICE                 F           Salary            NaN   \n",
       "...          ...               ...              ...            ...   \n",
       "33177     POLICE                 F           Salary            NaN   \n",
       "33178     POLICE                 F           Salary            NaN   \n",
       "33179     POLICE                 F           Salary            NaN   \n",
       "33180     POLICE                 F           Salary            NaN   \n",
       "33181     POLICE                 F           Salary            NaN   \n",
       "\n",
       "       Annual Salary  Hourly Rate  \n",
       "0           101442.0          NaN  \n",
       "1            94122.0          NaN  \n",
       "9            93354.0          NaN  \n",
       "11           84054.0          NaN  \n",
       "12           87006.0          NaN  \n",
       "...              ...          ...  \n",
       "33177        72510.0          NaN  \n",
       "33178        72510.0          NaN  \n",
       "33179        48078.0          NaN  \n",
       "33180        90024.0          NaN  \n",
       "33181        93354.0          NaN  \n",
       "\n",
       "[13404 rows x 8 columns]"
      ]
     },
     "execution_count": 77,
     "metadata": {},
     "output_type": "execute_result"
    }
   ],
   "source": [
    "# Your code here:\n",
    "\n",
    "police_salaries = salaries[(salaries['Department'] == 'POLICE') & (salaries['Salary or Hourly'] == 'Salary')]\n",
    "police_salaries"
   ]
  },
  {
   "cell_type": "code",
   "execution_count": 86,
   "metadata": {},
   "outputs": [
    {
     "data": {
      "text/plain": [
       "(3.081997005712994, 0.0020603403550965137)"
      ]
     },
     "execution_count": 86,
     "metadata": {},
     "output_type": "execute_result"
    }
   ],
   "source": [
    "t2, p2 = ttest_1samp(police_salaries['Annual Salary'], 86000)\n",
    "t2, p2"
   ]
  },
  {
   "cell_type": "code",
   "execution_count": 87,
   "metadata": {},
   "outputs": [
    {
     "data": {
      "text/plain": [
       "True"
      ]
     },
     "execution_count": 87,
     "metadata": {},
     "output_type": "execute_result"
    }
   ],
   "source": [
    "p2 <= 0.05"
   ]
  },
  {
   "cell_type": "code",
   "execution_count": 97,
   "metadata": {},
   "outputs": [
    {
     "data": {
      "text/plain": [
       "99.79396596449035"
      ]
     },
     "execution_count": 97,
     "metadata": {},
     "output_type": "execute_result"
    }
   ],
   "source": [
    "(1 - p2) * 100"
   ]
  },
  {
   "cell_type": "markdown",
   "metadata": {},
   "source": [
    "el valor de p es menor a 0.05 (con 0.0020), con una confianza del 99.79%, se podría asegurar que la hipótesis nula es falsa:\n",
    "- H0 = el salario anual es mayor a $86,000/año\n",
    "\n",
    "y, por ende, la hipótesis alternativa es verdadera:\n",
    "- Ha = el salario anual es igual o menor a $86,000/año"
   ]
  },
  {
   "cell_type": "code",
   "execution_count": 89,
   "metadata": {},
   "outputs": [
    {
     "data": {
      "text/plain": [
       "86486.41"
      ]
     },
     "execution_count": 89,
     "metadata": {},
     "output_type": "execute_result"
    }
   ],
   "source": [
    "round(np.mean(police_salaries['Annual Salary']), 2)"
   ]
  },
  {
   "cell_type": "code",
   "execution_count": 95,
   "metadata": {},
   "outputs": [
    {
     "data": {
      "image/png": "[encoded data removed]",
      "text/plain": [
       "<Figure size 432x288 with 1 Axes>"
      ]
     },
     "metadata": {
      "needs_background": "light"
     },
     "output_type": "display_data"
    }
   ],
   "source": [
    "plt.hist(police_salaries['Annual Salary'], bins=25)\n",
    "plt.axvline(police_salaries['Annual Salary'].mean(), color='k', linestyle='dashed', linewidth=1)\n",
    "\n",
    "min_ylim, max_ylim = plt.ylim()\n",
    "plt.text(police_salaries['Annual Salary'].mean()* 1.2, max_ylim*0.9, 'Mean: {:.2f}'.format(police_salaries['Annual Salary'].mean()));"
   ]
  },
  {
   "cell_type": "markdown",
   "metadata": {},
   "source": [
    "Using the `crosstab` function, find the department that has the most hourly workers. "
   ]
  },
  {
   "cell_type": "code",
   "execution_count": 102,
   "metadata": {
    "scrolled": true
   },
   "outputs": [
    {
     "data": {
      "text/html": [
       "<div>\n",
       "<style scoped>\n",
       "    .dataframe tbody tr th:only-of-type {\n",
       "        vertical-align: middle;\n",
       "    }\n",
       "\n",
       "    .dataframe tbody tr th {\n",
       "        vertical-align: top;\n",
       "    }\n",
       "\n",
       "    .dataframe thead th {\n",
       "        text-align: right;\n",
       "    }\n",
       "</style>\n",
       "<table border=\"1\" class=\"dataframe\">\n",
       "  <thead>\n",
       "    <tr style=\"text-align: right;\">\n",
       "      <th>Salary or Hourly</th>\n",
       "      <th>Hourly</th>\n",
       "      <th>Salary</th>\n",
       "    </tr>\n",
       "    <tr>\n",
       "      <th>Department</th>\n",
       "      <th></th>\n",
       "      <th></th>\n",
       "    </tr>\n",
       "  </thead>\n",
       "  <tbody>\n",
       "    <tr>\n",
       "      <th>STREETS &amp; SAN</th>\n",
       "      <td>1862</td>\n",
       "      <td>336</td>\n",
       "    </tr>\n",
       "    <tr>\n",
       "      <th>WATER MGMNT</th>\n",
       "      <td>1513</td>\n",
       "      <td>366</td>\n",
       "    </tr>\n",
       "    <tr>\n",
       "      <th>OEMC</th>\n",
       "      <td>1273</td>\n",
       "      <td>829</td>\n",
       "    </tr>\n",
       "    <tr>\n",
       "      <th>AVIATION</th>\n",
       "      <td>1082</td>\n",
       "      <td>547</td>\n",
       "    </tr>\n",
       "    <tr>\n",
       "      <th>GENERAL SERVICES</th>\n",
       "      <td>765</td>\n",
       "      <td>215</td>\n",
       "    </tr>\n",
       "    <tr>\n",
       "      <th>TRANSPORTN</th>\n",
       "      <td>725</td>\n",
       "      <td>415</td>\n",
       "    </tr>\n",
       "    <tr>\n",
       "      <th>PUBLIC LIBRARY</th>\n",
       "      <td>299</td>\n",
       "      <td>716</td>\n",
       "    </tr>\n",
       "    <tr>\n",
       "      <th>FAMILY &amp; SUPPORT</th>\n",
       "      <td>287</td>\n",
       "      <td>328</td>\n",
       "    </tr>\n",
       "    <tr>\n",
       "      <th>CITY COUNCIL</th>\n",
       "      <td>64</td>\n",
       "      <td>347</td>\n",
       "    </tr>\n",
       "    <tr>\n",
       "      <th>FINANCE</th>\n",
       "      <td>44</td>\n",
       "      <td>516</td>\n",
       "    </tr>\n",
       "    <tr>\n",
       "      <th>LAW</th>\n",
       "      <td>40</td>\n",
       "      <td>367</td>\n",
       "    </tr>\n",
       "    <tr>\n",
       "      <th>ANIMAL CONTRL</th>\n",
       "      <td>19</td>\n",
       "      <td>62</td>\n",
       "    </tr>\n",
       "    <tr>\n",
       "      <th>POLICE</th>\n",
       "      <td>10</td>\n",
       "      <td>13404</td>\n",
       "    </tr>\n",
       "    <tr>\n",
       "      <th>MAYOR'S OFFICE</th>\n",
       "      <td>8</td>\n",
       "      <td>77</td>\n",
       "    </tr>\n",
       "    <tr>\n",
       "      <th>BUSINESS AFFAIRS</th>\n",
       "      <td>7</td>\n",
       "      <td>164</td>\n",
       "    </tr>\n",
       "    <tr>\n",
       "      <th>CULTURAL AFFAIRS</th>\n",
       "      <td>7</td>\n",
       "      <td>58</td>\n",
       "    </tr>\n",
       "    <tr>\n",
       "      <th>COMMUNITY DEVELOPMENT</th>\n",
       "      <td>4</td>\n",
       "      <td>203</td>\n",
       "    </tr>\n",
       "    <tr>\n",
       "      <th>HUMAN RESOURCES</th>\n",
       "      <td>4</td>\n",
       "      <td>75</td>\n",
       "    </tr>\n",
       "    <tr>\n",
       "      <th>HEALTH</th>\n",
       "      <td>3</td>\n",
       "      <td>485</td>\n",
       "    </tr>\n",
       "    <tr>\n",
       "      <th>PROCUREMENT</th>\n",
       "      <td>2</td>\n",
       "      <td>90</td>\n",
       "    </tr>\n",
       "    <tr>\n",
       "      <th>FIRE</th>\n",
       "      <td>2</td>\n",
       "      <td>4639</td>\n",
       "    </tr>\n",
       "    <tr>\n",
       "      <th>BUDGET &amp; MGMT</th>\n",
       "      <td>2</td>\n",
       "      <td>44</td>\n",
       "    </tr>\n",
       "    <tr>\n",
       "      <th>HUMAN RELATIONS</th>\n",
       "      <td>0</td>\n",
       "      <td>16</td>\n",
       "    </tr>\n",
       "    <tr>\n",
       "      <th>INSPECTOR GEN</th>\n",
       "      <td>0</td>\n",
       "      <td>87</td>\n",
       "    </tr>\n",
       "    <tr>\n",
       "      <th>DoIT</th>\n",
       "      <td>0</td>\n",
       "      <td>99</td>\n",
       "    </tr>\n",
       "    <tr>\n",
       "      <th>LICENSE APPL COMM</th>\n",
       "      <td>0</td>\n",
       "      <td>1</td>\n",
       "    </tr>\n",
       "    <tr>\n",
       "      <th>DISABILITIES</th>\n",
       "      <td>0</td>\n",
       "      <td>28</td>\n",
       "    </tr>\n",
       "    <tr>\n",
       "      <th>COPA</th>\n",
       "      <td>0</td>\n",
       "      <td>116</td>\n",
       "    </tr>\n",
       "    <tr>\n",
       "      <th>CITY CLERK</th>\n",
       "      <td>0</td>\n",
       "      <td>84</td>\n",
       "    </tr>\n",
       "    <tr>\n",
       "      <th>POLICE BOARD</th>\n",
       "      <td>0</td>\n",
       "      <td>2</td>\n",
       "    </tr>\n",
       "    <tr>\n",
       "      <th>BUILDINGS</th>\n",
       "      <td>0</td>\n",
       "      <td>269</td>\n",
       "    </tr>\n",
       "    <tr>\n",
       "      <th>BOARD OF ETHICS</th>\n",
       "      <td>0</td>\n",
       "      <td>8</td>\n",
       "    </tr>\n",
       "    <tr>\n",
       "      <th>BOARD OF ELECTION</th>\n",
       "      <td>0</td>\n",
       "      <td>107</td>\n",
       "    </tr>\n",
       "    <tr>\n",
       "      <th>TREASURER</th>\n",
       "      <td>0</td>\n",
       "      <td>22</td>\n",
       "    </tr>\n",
       "    <tr>\n",
       "      <th>ADMIN HEARNG</th>\n",
       "      <td>0</td>\n",
       "      <td>39</td>\n",
       "    </tr>\n",
       "  </tbody>\n",
       "</table>\n",
       "</div>"
      ],
      "text/plain": [
       "Salary or Hourly       Hourly  Salary\n",
       "Department                           \n",
       "STREETS & SAN            1862     336\n",
       "WATER MGMNT              1513     366\n",
       "OEMC                     1273     829\n",
       "AVIATION                 1082     547\n",
       "GENERAL SERVICES          765     215\n",
       "TRANSPORTN                725     415\n",
       "PUBLIC LIBRARY            299     716\n",
       "FAMILY & SUPPORT          287     328\n",
       "CITY COUNCIL               64     347\n",
       "FINANCE                    44     516\n",
       "LAW                        40     367\n",
       "ANIMAL CONTRL              19      62\n",
       "POLICE                     10   13404\n",
       "MAYOR'S OFFICE              8      77\n",
       "BUSINESS AFFAIRS            7     164\n",
       "CULTURAL AFFAIRS            7      58\n",
       "COMMUNITY DEVELOPMENT       4     203\n",
       "HUMAN RESOURCES             4      75\n",
       "HEALTH                      3     485\n",
       "PROCUREMENT                 2      90\n",
       "FIRE                        2    4639\n",
       "BUDGET & MGMT               2      44\n",
       "HUMAN RELATIONS             0      16\n",
       "INSPECTOR GEN               0      87\n",
       "DoIT                        0      99\n",
       "LICENSE APPL COMM           0       1\n",
       "DISABILITIES                0      28\n",
       "COPA                        0     116\n",
       "CITY CLERK                  0      84\n",
       "POLICE BOARD                0       2\n",
       "BUILDINGS                   0     269\n",
       "BOARD OF ETHICS             0       8\n",
       "BOARD OF ELECTION           0     107\n",
       "TREASURER                   0      22\n",
       "ADMIN HEARNG                0      39"
      ]
     },
     "execution_count": 102,
     "metadata": {},
     "output_type": "execute_result"
    }
   ],
   "source": [
    "# Your code here:\n",
    "\n",
    "pd.crosstab(salaries['Department'], salaries['Salary or Hourly']).sort_values(by = 'Hourly', ascending = False)\n",
    "\n",
    "# Streets & San department has the most hourly workers"
   ]
  },
  {
   "cell_type": "markdown",
   "metadata": {},
   "source": [
    "The workers from the department with the most hourly workers have complained that their hourly wage is less than $35/hour. Using a one sample t-test, test this one-sided hypothesis at the 95% confidence level."
   ]
  },
  {
   "cell_type": "markdown",
   "metadata": {},
   "source": [
    "Our hypothesis will be:\n",
    "\n",
    "    H0: μ < 35/hour\n",
    "    Ha: μ <= 35/hour"
   ]
  },
  {
   "cell_type": "code",
   "execution_count": 104,
   "metadata": {
    "scrolled": true
   },
   "outputs": [
    {
     "data": {
      "text/html": [
       "<div>\n",
       "<style scoped>\n",
       "    .dataframe tbody tr th:only-of-type {\n",
       "        vertical-align: middle;\n",
       "    }\n",
       "\n",
       "    .dataframe tbody tr th {\n",
       "        vertical-align: top;\n",
       "    }\n",
       "\n",
       "    .dataframe thead th {\n",
       "        text-align: right;\n",
       "    }\n",
       "</style>\n",
       "<table border=\"1\" class=\"dataframe\">\n",
       "  <thead>\n",
       "    <tr style=\"text-align: right;\">\n",
       "      <th></th>\n",
       "      <th>Name</th>\n",
       "      <th>Job Titles</th>\n",
       "      <th>Department</th>\n",
       "      <th>Full or Part-Time</th>\n",
       "      <th>Salary or Hourly</th>\n",
       "      <th>Typical Hours</th>\n",
       "      <th>Annual Salary</th>\n",
       "      <th>Hourly Rate</th>\n",
       "    </tr>\n",
       "  </thead>\n",
       "  <tbody>\n",
       "    <tr>\n",
       "      <th>7</th>\n",
       "      <td>ABBATE,  JOSEPH L</td>\n",
       "      <td>POOL MOTOR TRUCK DRIVER</td>\n",
       "      <td>STREETS &amp; SAN</td>\n",
       "      <td>F</td>\n",
       "      <td>Hourly</td>\n",
       "      <td>40.0</td>\n",
       "      <td>NaN</td>\n",
       "      <td>35.60</td>\n",
       "    </tr>\n",
       "    <tr>\n",
       "      <th>21</th>\n",
       "      <td>ABDUL-SHAKUR,  TAHIR</td>\n",
       "      <td>GENERAL LABORER - DSS</td>\n",
       "      <td>STREETS &amp; SAN</td>\n",
       "      <td>F</td>\n",
       "      <td>Hourly</td>\n",
       "      <td>40.0</td>\n",
       "      <td>NaN</td>\n",
       "      <td>21.43</td>\n",
       "    </tr>\n",
       "    <tr>\n",
       "      <th>24</th>\n",
       "      <td>ABERCROMBIE,  TIMOTHY</td>\n",
       "      <td>MOTOR TRUCK DRIVER</td>\n",
       "      <td>STREETS &amp; SAN</td>\n",
       "      <td>F</td>\n",
       "      <td>Hourly</td>\n",
       "      <td>40.0</td>\n",
       "      <td>NaN</td>\n",
       "      <td>35.60</td>\n",
       "    </tr>\n",
       "  </tbody>\n",
       "</table>\n",
       "</div>"
      ],
      "text/plain": [
       "                      Name               Job Titles     Department  \\\n",
       "7       ABBATE,  JOSEPH L   POOL MOTOR TRUCK DRIVER  STREETS & SAN   \n",
       "21   ABDUL-SHAKUR,  TAHIR     GENERAL LABORER - DSS  STREETS & SAN   \n",
       "24  ABERCROMBIE,  TIMOTHY        MOTOR TRUCK DRIVER  STREETS & SAN   \n",
       "\n",
       "   Full or Part-Time Salary or Hourly  Typical Hours  Annual Salary  \\\n",
       "7                  F           Hourly           40.0            NaN   \n",
       "21                 F           Hourly           40.0            NaN   \n",
       "24                 F           Hourly           40.0            NaN   \n",
       "\n",
       "    Hourly Rate  \n",
       "7         35.60  \n",
       "21        21.43  \n",
       "24        35.60  "
      ]
     },
     "execution_count": 104,
     "metadata": {},
     "output_type": "execute_result"
    }
   ],
   "source": [
    "# Your code here:\n",
    "\n",
    "streets_salaries = salaries[(salaries['Department'] == 'STREETS & SAN') & (salaries['Salary or Hourly'] == 'Hourly')]\n",
    "streets_salaries.head(3)"
   ]
  },
  {
   "cell_type": "code",
   "execution_count": 108,
   "metadata": {},
   "outputs": [
    {
     "data": {
      "text/plain": [
       "(-9.567447887848152, 3.3378530564707717e-21)"
      ]
     },
     "execution_count": 108,
     "metadata": {},
     "output_type": "execute_result"
    }
   ],
   "source": [
    "t3, p3 = ttest_1samp(streets_salaries['Hourly Rate'], 35)\n",
    "t3, p3"
   ]
  },
  {
   "cell_type": "code",
   "execution_count": 109,
   "metadata": {},
   "outputs": [
    {
     "data": {
      "text/plain": [
       "True"
      ]
     },
     "execution_count": 109,
     "metadata": {},
     "output_type": "execute_result"
    }
   ],
   "source": [
    "p3 <= 0.05"
   ]
  },
  {
   "cell_type": "code",
   "execution_count": 110,
   "metadata": {},
   "outputs": [
    {
     "data": {
      "text/plain": [
       "100.0"
      ]
     },
     "execution_count": 110,
     "metadata": {},
     "output_type": "execute_result"
    }
   ],
   "source": [
    "(1 - p3) * 100"
   ]
  },
  {
   "cell_type": "markdown",
   "metadata": {},
   "source": [
    "el valor de p es menor a 0.05 (3.33e-21), con una confianza del 100%, se podría asegurar que la hipótesis nula es falsa:\n",
    "- H0 = el salario por hora es menor a $35/hora\n",
    "\n",
    "y, por ende, la hipótesis alternativa es verdadera:\n",
    "- Ha = el salario por hora es igual o mayor a $35/hora"
   ]
  },
  {
   "cell_type": "code",
   "execution_count": 133,
   "metadata": {},
   "outputs": [
    {
     "data": {
      "text/plain": [
       "1862"
      ]
     },
     "execution_count": 133,
     "metadata": {},
     "output_type": "execute_result"
    }
   ],
   "source": [
    "len(streets_salaries['Hourly Rate'])"
   ]
  },
  {
   "cell_type": "code",
   "execution_count": 135,
   "metadata": {},
   "outputs": [
    {
     "data": {
      "text/plain": [
       "421"
      ]
     },
     "execution_count": 135,
     "metadata": {},
     "output_type": "execute_result"
    }
   ],
   "source": [
    "# count de valores menor que $35/hora\n",
    "\n",
    "streets_salaries['Hourly Rate'][streets_salaries['Hourly Rate'] < 35].count()"
   ]
  },
  {
   "cell_type": "code",
   "execution_count": 136,
   "metadata": {},
   "outputs": [
    {
     "data": {
      "text/plain": [
       "1441"
      ]
     },
     "execution_count": 136,
     "metadata": {},
     "output_type": "execute_result"
    }
   ],
   "source": [
    "# count de valores mayores o iguales que $35/hora\n",
    "\n",
    "streets_salaries['Hourly Rate'][streets_salaries['Hourly Rate'] >= 35].count()"
   ]
  },
  {
   "cell_type": "code",
   "execution_count": 111,
   "metadata": {},
   "outputs": [
    {
     "data": {
      "text/plain": [
       "33.73"
      ]
     },
     "execution_count": 111,
     "metadata": {},
     "output_type": "execute_result"
    }
   ],
   "source": [
    "round(np.mean(streets_salaries['Hourly Rate']), 2)"
   ]
  },
  {
   "cell_type": "code",
   "execution_count": 126,
   "metadata": {},
   "outputs": [
    {
     "data": {
      "image/png": "[encoded data removed]",
      "text/plain": [
       "<Figure size 432x288 with 1 Axes>"
      ]
     },
     "metadata": {
      "needs_background": "light"
     },
     "output_type": "display_data"
    }
   ],
   "source": [
    "plt.hist(streets_salaries['Hourly Rate'], bins=15)\n",
    "plt.axvline(streets_salaries['Hourly Rate'].mean(), color='k', linestyle='dashed', linewidth=1)\n",
    "\n",
    "min_ylim, max_ylim = plt.ylim()\n",
    "plt.text(streets_salaries['Hourly Rate'].mean()* 0.75, max_ylim*0.9, 'Mean: {:.2f}'.format(streets_salaries['Hourly Rate'].mean()));"
   ]
  },
  {
   "cell_type": "markdown",
   "metadata": {},
   "source": [
    "# Challenge 3 - Constructing Confidence Intervals\n",
    "\n",
    "While testing our hypothesis is a great way to gather empirical evidence for accepting or rejecting the hypothesis, another way to gather evidence is by creating a confidence interval. A confidence interval gives us information about the true mean of the population. So for a 95% confidence interval, we are 95% sure that the mean of the population is within the confidence interval. \n",
    ").\n",
    "\n",
    "To read more about confidence intervals, click [here](https://en.wikipedia.org/wiki/Confidence_interval).\n",
    "\n",
    "\n",
    "In the cell below, we will construct a 95% confidence interval for the mean hourly wage of all hourly workers. \n",
    "\n",
    "The confidence interval is computed in SciPy using the `t.interval` function. You can read more about this function [here](https://docs.scipy.org/doc/scipy-0.14.0/reference/generated/scipy.stats.t.html).\n",
    "\n",
    "To compute the confidence interval of the hourly wage, use the 0.95 for the confidence level, number of rows - 1 for degrees of freedom, the mean of the sample for the location parameter and the standard error for the scale. The standard error can be computed using [this](https://docs.scipy.org/doc/scipy/reference/generated/scipy.stats.sem.html) function in SciPy."
   ]
  },
  {
   "cell_type": "code",
   "execution_count": 137,
   "metadata": {},
   "outputs": [
    {
     "data": {
      "text/plain": [
       "(32.52345834488529, 33.05365708767727)"
      ]
     },
     "execution_count": 137,
     "metadata": {},
     "output_type": "execute_result"
    }
   ],
   "source": [
    "# Your code here:\n",
    "\n",
    "stats.t.interval(alpha=0.95, df=len(hourly)-1, loc=np.mean(hourly['Hourly Rate']), scale=stats.sem(hourly['Hourly Rate']))"
   ]
  },
  {
   "cell_type": "markdown",
   "metadata": {},
   "source": [
    "Now construct the 95% confidence interval for all salaried employeed in the police in the cell below."
   ]
  },
  {
   "cell_type": "code",
   "execution_count": 139,
   "metadata": {},
   "outputs": [
    {
     "data": {
      "text/plain": [
       "(86177.05631531784, 86795.77269094894)"
      ]
     },
     "execution_count": 139,
     "metadata": {},
     "output_type": "execute_result"
    }
   ],
   "source": [
    "# Your code here:\n",
    "\n",
    "stats.t.interval(alpha=0.95, df=len(police_salaries)-1, loc=np.mean(police_salaries['Annual Salary']), scale=stats.sem(police_salaries['Annual Salary']))"
   ]
  },
  {
   "cell_type": "markdown",
   "metadata": {},
   "source": [
    "# Challenge 4 - Hypothesis Tests of Proportions\n",
    "\n",
    "Another type of one sample test is a hypothesis test of proportions. In this test, we examine whether the proportion of a group in our sample is significantly different than a fraction. \n",
    "\n",
    "You can read more about one sample proportion tests [here](http://sphweb.bumc.bu.edu/otlt/MPH-Modules/BS/SAS/SAS6-CategoricalData/SAS6-CategoricalData2.html).\n",
    "\n",
    "In the cell below, use the `proportions_ztest` function from `statsmodels` to perform a hypothesis test that will determine whether the number of hourly workers in the City of Chicago is significantly different from 25% at the 95% confidence level."
   ]
  },
  {
   "cell_type": "markdown",
   "metadata": {},
   "source": [
    "Our hypothesis will be:\n",
    "\n",
    "    H0: μ =  25%\n",
    "    Ha: μ != 25%\n",
    "   "
   ]
  },
  {
   "cell_type": "code",
   "execution_count": 144,
   "metadata": {},
   "outputs": [],
   "source": [
    "from statsmodels.stats.proportion import proportions_ztest"
   ]
  },
  {
   "cell_type": "code",
   "execution_count": 146,
   "metadata": {},
   "outputs": [
    {
     "data": {
      "text/plain": [
       "(-3.5099964213703005, 0.0004481127249057967)"
      ]
     },
     "execution_count": 146,
     "metadata": {},
     "output_type": "execute_result"
    }
   ],
   "source": [
    "# Your code here:\n",
    "\n",
    "t4, p4 = proportions_ztest(len(salaries[salaries['Salary or Hourly'] == 'Hourly']), len(salaries['Salary or Hourly']), value = 0.25)\n",
    "t4, p4"
   ]
  },
  {
   "cell_type": "code",
   "execution_count": 149,
   "metadata": {},
   "outputs": [
    {
     "data": {
      "text/plain": [
       "True"
      ]
     },
     "execution_count": 149,
     "metadata": {},
     "output_type": "execute_result"
    }
   ],
   "source": [
    "p4 <= 0.05"
   ]
  },
  {
   "cell_type": "code",
   "execution_count": 147,
   "metadata": {},
   "outputs": [
    {
     "data": {
      "text/plain": [
       "99.95518872750942"
      ]
     },
     "execution_count": 147,
     "metadata": {},
     "output_type": "execute_result"
    }
   ],
   "source": [
    "(1 - p4) * 100"
   ]
  },
  {
   "cell_type": "markdown",
   "metadata": {},
   "source": [
    "el valor de p es menor a 0.05 (0.0004), con una confianza del 99.95%, se podría asegurar que la hipótesis nula es falsa:\n",
    "- H0 = la cantidad de trabajadores por hora en Chicago es del 25%\n",
    "\n",
    "y, por ende, la hipótesis alternativa es verdadera:\n",
    "- Ha = la cantidad de trabajadores por hora en Chicago es diferente del 25%"
   ]
  },
  {
   "cell_type": "code",
   "execution_count": null,
   "metadata": {},
   "outputs": [],
   "source": []
  }
 ],
 "metadata": {
  "kernelspec": {
   "display_name": "Python 3 (ipykernel)",
   "language": "python",
   "name": "python3"
  },
  "language_info": {
   "codemirror_mode": {
    "name": "ipython",
    "version": 3
   },
   "file_extension": ".py",
   "mimetype": "text/x-python",
   "name": "python",
   "nbconvert_exporter": "python",
   "pygments_lexer": "ipython3",
   "version": "3.9.7"
  }
 },
 "nbformat": 4,
 "nbformat_minor": 2
}
